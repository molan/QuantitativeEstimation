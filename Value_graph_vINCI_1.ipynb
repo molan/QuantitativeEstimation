{
  "cells": [
    {
      "cell_type": "markdown",
      "metadata": {
        "id": "view-in-github",
        "colab_type": "text"
      },
      "source": [
        "<a href=\"https://colab.research.google.com/github/molan/quantitative_estimation/blob/main/Value_graph_vINCI_1.ipynb\" target=\"_parent\"><img src=\"https://colab.research.google.com/assets/colab-badge.svg\" alt=\"Open In Colab\"/></a>"
      ]
    },
    {
      "cell_type": "markdown",
      "metadata": {
        "id": "dzU8HHPd_sFy"
      },
      "source": [
        "# Case 1: Computation on value graph for vINCI\n",
        "\n",
        "1. Martin Molan\n",
        "1. Gregor Molan\n",
        "\n",
        "+ 2021-05-16 .. Initial code\n",
        "+ 2021-06-30 .. layer -> subgraph\n",
        "+ 2021-07-03 .. vINCI\n",
        "+ 2022-07-20 .. new build with new Keras, Tensorflow (need nightly build), Keract, Matplotlib\n",
        "```\n",
        "conda install keras\n",
        "conda install tensorflow\n",
        "pip install keract\n",
        "pip install matplotlib\n",
        "pip install tf-nightly\n",
        "jupyter notebook Value_graph_vINCI.1.ipynb\n",
        "```\n",
        "+ 2022-07-21\n",
        "    * Sort functionality risk estimation by 90 % of trade-off function : `loss_percentage_array`\n",
        "    * Correctly plot results - use 5 backend items and final value: `for i in range(0,6):`"
      ]
    },
    {
      "cell_type": "markdown",
      "metadata": {
        "toc": true,
        "id": "Fl2tFM6k_sF5"
      },
      "source": [
        "<h1>Table of Contents<span class=\"tocSkip\"></span></h1>\n",
        "<div class=\"toc\"><ul class=\"toc-item\"><li><span><a href=\"#Prerequisites-(imports)\" data-toc-modified-id=\"Prerequisites-(imports)-1\"><span class=\"toc-item-num\">1&nbsp;&nbsp;</span>Prerequisites (imports)</a></span></li><li><span><a href=\"#Value-graph-definition\" data-toc-modified-id=\"Value-graph-definition-2\"><span class=\"toc-item-num\">2&nbsp;&nbsp;</span>Value graph definition</a></span><ul class=\"toc-item\"><li><span><a href=\"#Definition-of-model-topology\" data-toc-modified-id=\"Definition-of-model-topology-2.1\"><span class=\"toc-item-num\">2.1&nbsp;&nbsp;</span>Definition of model topology</a></span></li><li><span><a href=\"#Definition-of-input-parameters-(graph-edge-weights)\" data-toc-modified-id=\"Definition-of-input-parameters-(graph-edge-weights)-2.2\"><span class=\"toc-item-num\">2.2&nbsp;&nbsp;</span>Definition of input parameters (graph edge weights)</a></span></li><li><span><a href=\"#Definition-of-input-variables\" data-toc-modified-id=\"Definition-of-input-variables-2.3\"><span class=\"toc-item-num\">2.3&nbsp;&nbsp;</span>Definition of input variables</a></span></li><li><span><a href=\"#Custom-activation-function\" data-toc-modified-id=\"Custom-activation-function-2.4\"><span class=\"toc-item-num\">2.4&nbsp;&nbsp;</span>Custom activation function</a></span></li><li><span><a href=\"#Definition-of-learning-rate\" data-toc-modified-id=\"Definition-of-learning-rate-2.5\"><span class=\"toc-item-num\">2.5&nbsp;&nbsp;</span>Definition of learning rate</a></span></li><li><span><a href=\"#Setup-the-model\" data-toc-modified-id=\"Setup-the-model-2.6\"><span class=\"toc-item-num\">2.6&nbsp;&nbsp;</span>Setup the model</a></span></li></ul></li><li><span><a href=\"#Computing-value-graph\" data-toc-modified-id=\"Computing-value-graph-3\"><span class=\"toc-item-num\">3&nbsp;&nbsp;</span>Computing value graph</a></span><ul class=\"toc-item\"><li><span><a href=\"#Compute-gradients\" data-toc-modified-id=\"Compute-gradients-3.1\"><span class=\"toc-item-num\">3.1&nbsp;&nbsp;</span>Compute gradients</a></span></li><li><span><a href=\"#Print-model-information\" data-toc-modified-id=\"Print-model-information-3.2\"><span class=\"toc-item-num\">3.2&nbsp;&nbsp;</span>Print model information</a></span></li><li><span><a href=\"#Functionality-risk-estimation\" data-toc-modified-id=\"Functionality-risk-estimation-3.3\"><span class=\"toc-item-num\">3.3&nbsp;&nbsp;</span>Functionality risk estimation</a></span></li></ul></li><li><span><a href=\"#Presenting-results\" data-toc-modified-id=\"Presenting-results-4\"><span class=\"toc-item-num\">4&nbsp;&nbsp;</span>Presenting results</a></span><ul class=\"toc-item\"><li><span><a href=\"#Plot-loss-values-according-to-skipped-items-from-Backend-functionality-layer\" data-toc-modified-id=\"Plot-loss-values-according-to-skipped-items-from-Backend-functionality-layer-4.1\"><span class=\"toc-item-num\">4.1&nbsp;&nbsp;</span>Plot loss values according to skipped items from Backend functionality layer</a></span></li><li><span><a href=\"#Legend-is-placed-outside-a-plot\" data-toc-modified-id=\"Legend-is-placed-outside-a-plot-4.2\"><span class=\"toc-item-num\">4.2&nbsp;&nbsp;</span>Legend is placed outside a plot</a></span></li></ul></li><li><span><a href=\"#Additional/Optional-information\" data-toc-modified-id=\"Additional/Optional-information-5\"><span class=\"toc-item-num\">5&nbsp;&nbsp;</span>Additional/Optional information</a></span><ul class=\"toc-item\"><li><span><a href=\"#About-activation-function\" data-toc-modified-id=\"About-activation-function-5.1\"><span class=\"toc-item-num\">5.1&nbsp;&nbsp;</span>About activation function</a></span></li></ul></li></ul></div>"
      ]
    },
    {
      "cell_type": "markdown",
      "metadata": {
        "id": "koT0A9qN_sF7"
      },
      "source": [
        "## Prerequisites (imports)\n"
      ]
    },
    {
      "cell_type": "markdown",
      "source": [
        "### Install missing libraries"
      ],
      "metadata": {
        "id": "xZ3Q09-tIeXc"
      }
    },
    {
      "cell_type": "code",
      "source": [
        "!pip install keract > /dev/null\n",
        "!pip install matplotlib > /dev/null\n",
        "!pip install tf-nightly > /dev/null"
      ],
      "metadata": {
        "id": "rwX2vpcLA3NA"
      },
      "execution_count": 1,
      "outputs": []
    },
    {
      "cell_type": "markdown",
      "source": [
        "### Import libraries"
      ],
      "metadata": {
        "id": "kW6LepimI23S"
      }
    },
    {
      "cell_type": "code",
      "execution_count": 2,
      "metadata": {
        "id": "2oAc-WyJ6bsl"
      },
      "outputs": [],
      "source": [
        "import keras;\n",
        "#   from keras.layers import Activation, Concatenate, Dense, Input, Layer\n",
        "#   from keras.models import Model\n",
        "#   from keras.utils.vis_utils import plot_model;\n",
        "\n",
        "import keract; \n",
        "#   from keract import get_activations;\n",
        "#   from keract import get_gradients_of_activations;\n",
        "\n",
        "import numpy as np\n",
        "import tensorflow as tf\n",
        "\n",
        "import matplotlib.pyplot as plt;\n",
        "import matplotlib.gridspec as gridspec;"
      ]
    },
    {
      "cell_type": "markdown",
      "metadata": {
        "id": "u4K6Wz8t_sF-"
      },
      "source": [
        "## Value graph definition"
      ]
    },
    {
      "cell_type": "markdown",
      "metadata": {
        "id": "FUpP8Cnu_sF-"
      },
      "source": [
        "### Definition of model topology"
      ]
    },
    {
      "cell_type": "code",
      "execution_count": 3,
      "metadata": {
        "id": "0TUHL3Ps_sF_"
      },
      "outputs": [],
      "source": [
        "#\n",
        "# Class for merging Requirement and Backend functionality layers\n",
        "#\n",
        "class RequBack(keras.layers.Layer):\n",
        "    def __init__(self, units=32, input_dim1=32,\n",
        "               input_dim2=32):\n",
        "        super(RequBack, self).__init__()\n",
        "\n",
        "        # Var. for weights for requirement signal\n",
        "        # is defined as \"trainable variable\".\n",
        "        # Generate initialized tensors.\n",
        "        w_init1 = tf.ones_initializer()\n",
        "        self.requirements_variable = tf.Variable(\n",
        "            initial_value = w_init1(\n",
        "                shape=(input_dim1, units),\n",
        "                dtype=\"float32\"),\n",
        "            trainable=True\n",
        "        )\n",
        "\n",
        "        # Variable for weights for backend signal\n",
        "        # is defined as \"trainable variable\"\n",
        "        w_init2 = tf.random_normal_initializer()\n",
        "        self.backend_variable = tf.Variable(\n",
        "            initial_value = w_init2(\n",
        "                shape=(input_dim2, units),\n",
        "                dtype=\"float32\"),\n",
        "            trainable=True\n",
        "        )\n",
        "\n",
        "        # Bias need to be defined if use it or not\n",
        "        bias_init = tf.random_normal_initializer()\n",
        "        self.my_dummy_bias = tf.Variable(\n",
        "            initial_value = bias_init(\n",
        "                shape=(units,),dtype=\"float32\"),\n",
        "            trainable=True\n",
        "        )\n",
        "    \n",
        "    def call(self, inputs):\n",
        "        # Multiplies input vector `input_req`\n",
        "        # by matrix requirements_variable \n",
        "        requirement_matrix = tf.matmul(\n",
        "            inputs[0],\n",
        "            self.requirements_variable)\n",
        "\n",
        "        # Multipliesn input vector `input_backend` \n",
        "        # by matrix requirements_variable \n",
        "        backend_matrix = tf.matmul(\n",
        "            inputs[1], self.backend_variable)\n",
        "\n",
        "        requirement_and_backend = (\n",
        "            requirement_matrix \n",
        "            - requirement_matrix * backend_matrix \n",
        "            + self.my_dummy_bias\n",
        "        )\n",
        "        return requirement_and_backend"
      ]
    },
    {
      "cell_type": "markdown",
      "metadata": {
        "id": "wdibL5QF_sGA"
      },
      "source": [
        "### Definition of input parameters (graph edge weights)"
      ]
    },
    {
      "cell_type": "code",
      "execution_count": 4,
      "metadata": {
        "id": "_W4r3JC9_sGB"
      },
      "outputs": [],
      "source": [
        "#\n",
        "# Graph arch values for arcs\n",
        "# from requirement layer to core functionality layer\n",
        "#\n",
        "w_R_0_1 = np.array([\n",
        "    [0.1, 0.2, 0.2, 0.5],\n",
        "    [  0, 0.4, 0,   0.6],\n",
        "    [0.7, 0.3, 0,   0  ],\n",
        "    [  0, 0.3, 0.3, 0.4]\n",
        "]);\n",
        "\n",
        "#\n",
        "# Graph arch values for arcs\n",
        "# from backend functionality layer to core functionality layer\n",
        "#\n",
        "w_B_0_1 = np.array([\n",
        "    [ 0.6,  0.4, 0,   0  ],\n",
        "    [ 0.6,  0.6, 0.8, 0.8],\n",
        "    [ 0.1,  0.1, 0.9, 0  ],\n",
        "    [ 0,    0,   0,   0.8],\n",
        "    [ 1,    1,   1,   1  ]\n",
        "]);\n",
        "\n",
        "#\n",
        "# Bias for Core functionality layer\n",
        "#\n",
        "bias_Core = np.array([\n",
        "    0,\n",
        "    0,\n",
        "    0,\n",
        "    0\n",
        "]);\n",
        "\n",
        "#\n",
        "# Graph arch values for arcs\n",
        "# from core functionality layer and edge functionality layer\n",
        "#\n",
        "w_1_2 = np.array([\n",
        "    [0.05, 0.00, 0.95],\n",
        "    [0.3,  0.3,  0.4],\n",
        "    [0.4,  0.0,  0.6],\n",
        "    [0.3,  0.0,  0.7]\n",
        "]);\n",
        "\n",
        "#\n",
        "# Bias for Edge functionality layer\n",
        "#\n",
        "bias_Edge = np.array([\n",
        "    0,\n",
        "    0,\n",
        "    0\n",
        "]);\n",
        "\n",
        "#\n",
        "# Graph arch values for arc\n",
        "# from edge functionality layer and value layer\n",
        "#\n",
        "w_2_3 = np.array([\n",
        "    [0.8],\n",
        "    [0.5],\n",
        "    [  1]\n",
        "]);\n",
        "\n",
        "#\n",
        "# Bias for Value layer\n",
        "#\n",
        "bias_value = np.array([\n",
        "    0\n",
        "]);\n",
        "\n",
        "my_weights = [\n",
        "   w_R_0_1,\n",
        "   w_B_0_1,\n",
        "   bias_Core,\n",
        "   w_1_2,\n",
        "   bias_Edge,\n",
        "   w_2_3,\n",
        "   bias_value\n",
        "]"
      ]
    },
    {
      "cell_type": "markdown",
      "metadata": {
        "id": "7xW-1WBZ_sGC"
      },
      "source": [
        "### Definition of input variables"
      ]
    },
    {
      "cell_type": "code",
      "execution_count": 5,
      "metadata": {
        "id": "MtZoyD2k_sGC"
      },
      "outputs": [],
      "source": [
        "#\n",
        "# Input variables in vectors for Requirements (r_R) and Bias (r_B)\n",
        "#\n",
        "r_R = np.array([[0.4,0.133,0.2,0.267]]);\n",
        "r_B = np.array([[0,0,0,0,0]]);"
      ]
    },
    {
      "cell_type": "markdown",
      "metadata": {
        "id": "XjsmCbCy_sGD"
      },
      "source": [
        "### Custom activation function"
      ]
    },
    {
      "cell_type": "code",
      "execution_count": 6,
      "metadata": {
        "id": "Dj8GiElN_sGD"
      },
      "outputs": [],
      "source": [
        "#\n",
        "# NOTE: percentage is global variable!\n",
        "#\n",
        "def tradeoff(x):\n",
        "    n = 1 / (1-percentage);\n",
        "    y = x - x**n/n;\n",
        "    return(y)"
      ]
    },
    {
      "cell_type": "markdown",
      "metadata": {
        "id": "Rjt_NTc6_sGD"
      },
      "source": [
        "### Definition of learning rate"
      ]
    },
    {
      "cell_type": "code",
      "execution_count": 7,
      "metadata": {
        "id": "zdFcuSSP_sGE"
      },
      "outputs": [],
      "source": [
        "#\n",
        "# Definition of learning rate for \"Gradient descent (with momentum) optimizer\"\n",
        "#\n",
        "LR = 0.01;"
      ]
    },
    {
      "cell_type": "markdown",
      "metadata": {
        "id": "S-ZbhjsZ_sGE"
      },
      "source": [
        "### Setup the model"
      ]
    },
    {
      "cell_type": "code",
      "execution_count": 8,
      "metadata": {
        "id": "eC8rf6C__sGE"
      },
      "outputs": [],
      "source": [
        "#\n",
        "# Input:\n",
        "#  percentage\n",
        "#  my_weights\n",
        "\n",
        "# input global variable \n",
        "#  percentage ... percentage in activation function\n",
        "\n",
        "# global variables used for setup custom layer names of the model \n",
        "relu_activ_f_name = 'relu_activ';   \n",
        "tradeoff_activ_f_name = 'tradeoff_activ';\n",
        "output_name = 'output_subgraph';\n",
        "edge_name  = 'edge_subgraph';\n",
        "\n",
        "#\n",
        "# Input parameters\n",
        "#  my_weights ... graph edge weights, topology of the model\n",
        "#\n",
        "# Return\n",
        "#  Keras Model class\n",
        "#\n",
        "def setup_model(my_weights):\n",
        "    \n",
        "    # Following variables can have arbitrary values (but distinguish)\n",
        "    #   for custom layer names of the model\n",
        "    requ1_name = 'requirement_subgraph_0';\n",
        "    requ2_name = 'requirement_subgraph_1';\n",
        "    back1_name = 'backend_subgraph_0';\n",
        "    back2_name = 'backend_subgraph_1';\n",
        "    \n",
        "    # --- Model definition ---\n",
        "    # Define two sets of input layers\n",
        "    input_req = keras.layers.Input(shape=(4,),name=requ1_name);\n",
        "    input_backend = keras.layers.Input(shape=(5,), name = back1_name);\n",
        "\n",
        "    # Define Core layer\n",
        "    # Core layer consists of 'requ_back',\n",
        "    #    (where name is inherited from class RequBack),\n",
        "    # relu activation function (relu_activ_f_name)\n",
        "    # and our custom trade-off function (tradeoff_activ_f_name).\n",
        "    requ_back = RequBack(4, 4, 5)([input_req,input_backend]);\n",
        "    input_relu = keras.layers.Activation(\n",
        "                                         'relu',\n",
        "                                          name=relu_activ_f_name\n",
        "                                        )(requ_back);\n",
        "    core = keras.layers.Activation(\n",
        "                                   tradeoff,\n",
        "                                   name=tradeoff_activ_f_name\n",
        "                                  )(input_relu);\n",
        "\n",
        "    # Define Edge layer\n",
        "    edge = keras.layers.Dense(3, name = edge_name)(core);\n",
        "    \n",
        "    # Define Value layer\n",
        "    output = keras.layers.Dense(1, name = output_name)(edge)\n",
        "\n",
        "    # --- Model compile ---\n",
        "    my_model = keras.models.Model(\n",
        "        inputs=[input_req, input_backend],\n",
        "        outputs=output\n",
        "    )\n",
        "    my_optimizer = keras.optimizers.SGD(learning_rate=LR)\n",
        "    my_model.compile(optimizer=my_optimizer, loss='mse');\n",
        "    \n",
        "    # --- Set model weights ---\n",
        "    my_model.set_weights(my_weights);\n",
        "    \n",
        "    return(my_model);        "
      ]
    },
    {
      "cell_type": "code",
      "execution_count": 9,
      "metadata": {
        "id": "Bz6CGuLS_sGF"
      },
      "outputs": [],
      "source": [
        "#\n",
        "# To use keract.get_gradients_of_activations in computing gradients\n",
        "# we should disable TF eager mode \n",
        "#\n",
        "tf.compat.v1.disable_eager_execution()"
      ]
    },
    {
      "cell_type": "code",
      "execution_count": 10,
      "metadata": {
        "id": "7-CEbY2E_sGF"
      },
      "outputs": [],
      "source": [
        "#\n",
        "# Setup the model 'value_graph_model' \n",
        "# with given 'percentage' for activation function\n",
        "#\n",
        "percentage = 0.8;\n",
        "value_graph_model = setup_model(my_weights);"
      ]
    },
    {
      "cell_type": "markdown",
      "metadata": {
        "id": "91IZmj3f_sGF"
      },
      "source": [
        "## Computing value graph"
      ]
    },
    {
      "cell_type": "markdown",
      "metadata": {
        "id": "HJPb6p7r_sGG"
      },
      "source": [
        "### Compute gradients"
      ]
    },
    {
      "cell_type": "code",
      "execution_count": 11,
      "metadata": {
        "scrolled": true,
        "id": "mPNdoGRj_sGG"
      },
      "outputs": [],
      "source": [
        "#\n",
        "# Compute dictionary of gradients: d_grad\n",
        "#\n",
        "\n",
        "#\n",
        "# Prerequisites:\n",
        "# r_R, r_B ... defined in previous cells\n",
        "#\n",
        "\n",
        "# y value for keract.get_gradients_of_activations\n",
        "my_y = np.array([[0]]);\n",
        "\n",
        "# Output d_grad is a dictionary of gradients mapping each layer\n",
        "# to the values of its gradients (regarding [r_R, r_B] and my_y).\n",
        "d_grad = keract.get_gradients_of_activations(\n",
        "        value_graph_model, \n",
        "        [r_R, r_B],\n",
        "        my_y,\n",
        "        output_format='simple');"
      ]
    },
    {
      "cell_type": "code",
      "execution_count": 12,
      "metadata": {
        "colab": {
          "base_uri": "https://localhost:8080/"
        },
        "id": "8IonBwPV_sGG",
        "outputId": "79144430-2f8e-4071-e920-cc75419f06c6"
      },
      "outputs": [
        {
          "output_type": "execute_result",
          "data": {
            "text/plain": [
              "OrderedDict([('requ_back',\n",
              "              array([[1.7858292, 1.4185945, 1.6602111, 1.6595005]], dtype=float32)),\n",
              "             ('relu_activ',\n",
              "              array([[1.7858292, 1.4185945, 1.6602111, 1.6595005]], dtype=float32)),\n",
              "             ('tradeoff_activ',\n",
              "              array([[1.7877059, 1.4265532, 1.6613026, 1.6974176]], dtype=float32)),\n",
              "             ('edge_subgraph',\n",
              "              array([[1.4446108 , 0.90288174, 1.8057635 ]], dtype=float32)),\n",
              "             ('output_subgraph', array([[1.8057635]], dtype=float32))])"
            ]
          },
          "metadata": {},
          "execution_count": 12
        }
      ],
      "source": [
        "d_grad"
      ]
    },
    {
      "cell_type": "code",
      "execution_count": 13,
      "metadata": {
        "colab": {
          "base_uri": "https://localhost:8080/"
        },
        "id": "j3II-dK5_sGH",
        "outputId": "47960329-dd17-4490-af27-faa900876010"
      },
      "outputs": [
        {
          "output_type": "stream",
          "name": "stdout",
          "text": [
            "Edge funtionality gradients: [[1.44 0.9  1.81]]\n"
          ]
        }
      ],
      "source": [
        "print(\"Edge funtionality gradients:\",\n",
        "      np.round(d_grad[edge_name], 2))"
      ]
    },
    {
      "cell_type": "code",
      "execution_count": 14,
      "metadata": {
        "id": "XzlNI8RA_sGI"
      },
      "outputs": [],
      "source": [
        "#\n",
        "# Compute gradients for Core layer: core_grad\n",
        "#\n",
        "\n",
        "# get value for key 'requ_back' or any 'requ_back_x' \n",
        "#   from the model calculation\n",
        "d_requ_back_grad = next(vd_value for my_key,vd_value in d_grad.items()\n",
        "                        if 'requ_back' in my_key);\n",
        "\n",
        "# calculate gradients for Core layer\n",
        "core_grad = d_requ_back_grad \\\n",
        "            * d_grad[relu_activ_f_name] \\\n",
        "            * d_grad[tradeoff_activ_f_name];"
      ]
    },
    {
      "cell_type": "code",
      "execution_count": 15,
      "metadata": {
        "colab": {
          "base_uri": "https://localhost:8080/"
        },
        "id": "PdqOcAHS_sGI",
        "outputId": "671f2795-1a67-4d72-ea15-d0beeb88be57"
      },
      "outputs": [
        {
          "output_type": "execute_result",
          "data": {
            "text/plain": [
              "array([[1.7858292, 1.4185945, 1.6602111, 1.6595005]], dtype=float32)"
            ]
          },
          "metadata": {},
          "execution_count": 15
        }
      ],
      "source": [
        "d_requ_back_grad"
      ]
    },
    {
      "cell_type": "code",
      "execution_count": 16,
      "metadata": {
        "colab": {
          "base_uri": "https://localhost:8080/"
        },
        "id": "u5CSx01Y_sGI",
        "outputId": "9356b262-44a4-4684-b7f3-612643044a3c"
      },
      "outputs": [
        {
          "output_type": "stream",
          "name": "stdout",
          "text": [
            "Core funtionality gradients: [[5.7  2.87 4.58 4.67]]\n"
          ]
        }
      ],
      "source": [
        "print(\"Core funtionality gradients:\",\n",
        "      np.round(core_grad, 2))"
      ]
    },
    {
      "cell_type": "code",
      "execution_count": 17,
      "metadata": {
        "colab": {
          "base_uri": "https://localhost:8080/"
        },
        "id": "jePAVaej_sGI",
        "outputId": "162a8361-d795-40bd-afe8-39691f697bce"
      },
      "outputs": [
        {
          "output_type": "stream",
          "name": "stdout",
          "text": [
            "Requiremet input gradients: [[4.4  3.95 4.85 4.1 ]]\n"
          ]
        }
      ],
      "source": [
        "print(\"Requiremet input gradients:\",\n",
        "      np.round(\n",
        "          (my_weights[0].dot(core_grad.T)).T,\n",
        "          2))"
      ]
    },
    {
      "cell_type": "code",
      "execution_count": 18,
      "metadata": {
        "colab": {
          "base_uri": "https://localhost:8080/"
        },
        "id": "9zhx33qp_sGJ",
        "outputId": "18ad49d6-5185-4c50-8f79-5d4f7fc61a95"
      },
      "outputs": [
        {
          "output_type": "stream",
          "name": "stdout",
          "text": [
            "Backend input gradients: [[-1.07 -3.13 -1.52 -0.77 -4.41]]\n"
          ]
        }
      ],
      "source": [
        "print(\"Backend input gradients:\",\n",
        "      np.round(\n",
        "          (-my_weights[1].dot(my_weights[0].dot(r_R.T)*core_grad.T)).T,\n",
        "          2))"
      ]
    },
    {
      "cell_type": "markdown",
      "metadata": {
        "id": "XN2HRttd_sGJ"
      },
      "source": [
        "### Print model information"
      ]
    },
    {
      "cell_type": "code",
      "execution_count": 19,
      "metadata": {
        "colab": {
          "base_uri": "https://localhost:8080/"
        },
        "id": "8JalrQAn_sGJ",
        "outputId": "24f4d9c0-3583-49cf-aadb-42a75a9fb116"
      },
      "outputs": [
        {
          "output_type": "stream",
          "name": "stdout",
          "text": [
            "Model: \"model\"\n",
            "__________________________________________________________________________________________________\n",
            " Layer (type)                   Output Shape         Param #     Connected to                     \n",
            "==================================================================================================\n",
            " requirement_subgraph_0 (InputL  [(None, 4)]         0           []                               \n",
            " ayer)                                                                                            \n",
            "                                                                                                  \n",
            " backend_subgraph_0 (InputLayer  [(None, 5)]         0           []                               \n",
            " )                                                                                                \n",
            "                                                                                                  \n",
            " requ_back (RequBack)           (None, 4)            40          ['requirement_subgraph_0[0][0]', \n",
            "                                                                  'backend_subgraph_0[0][0]']     \n",
            "                                                                                                  \n",
            " relu_activ (Activation)        (None, 4)            0           ['requ_back[0][0]']              \n",
            "                                                                                                  \n",
            " tradeoff_activ (Activation)    (None, 4)            0           ['relu_activ[0][0]']             \n",
            "                                                                                                  \n",
            " edge_subgraph (Dense)          (None, 3)            15          ['tradeoff_activ[0][0]']         \n",
            "                                                                                                  \n",
            " output_subgraph (Dense)        (None, 1)            4           ['edge_subgraph[0][0]']          \n",
            "                                                                                                  \n",
            "==================================================================================================\n",
            "Total params: 59\n",
            "Trainable params: 59\n",
            "Non-trainable params: 0\n",
            "__________________________________________________________________________________________________\n"
          ]
        }
      ],
      "source": [
        "#\n",
        "# Print a string summary about the content of built model\n",
        "#\n",
        "value_graph_model.summary();"
      ]
    },
    {
      "cell_type": "code",
      "execution_count": 20,
      "metadata": {
        "scrolled": true,
        "colab": {
          "base_uri": "https://localhost:8080/",
          "height": 238
        },
        "id": "pqlzXVbq_sGJ",
        "outputId": "4da944d6-eede-4045-a39c-738fb0aa6dc7"
      },
      "outputs": [
        {
          "output_type": "execute_result",
          "data": {
            "image/png": "[encoded data removed]",
            "text/plain": [
              "<IPython.core.display.Image object>"
            ]
          },
          "metadata": {},
          "execution_count": 20
        }
      ],
      "source": [
        "#\n",
        "# Visulize the built model in 'value_graph_model'\n",
        "#\n",
        "keras.utils.plot_model(\n",
        "    value_graph_model,\n",
        "    show_shapes=True,\n",
        "    show_layer_names=True, \n",
        "    rankdir = 'LR',\n",
        "    to_file = 'graph_value.pdf'\n",
        ")\n",
        "\n",
        "# print to Jupyter notebokk\n",
        "keras.utils.plot_model(value_graph_model,\n",
        "           show_shapes=True, \n",
        "           show_layer_names=True,\n",
        "           rankdir = 'LR'\n",
        ")"
      ]
    },
    {
      "cell_type": "markdown",
      "metadata": {
        "id": "1zLXY6bt_sGK"
      },
      "source": [
        "### Functionality risk estimation"
      ]
    },
    {
      "cell_type": "code",
      "execution_count": 21,
      "metadata": {
        "id": "iBoyGXzd_sGK"
      },
      "outputs": [],
      "source": [
        "#\n",
        "# Computation of the Functionality risk\n",
        "#\n",
        "# Functionality risk is an estimated decrease in software product value,\n",
        "# if a certain backend functionality is not implemented.\n",
        "#\n",
        "\n",
        "requirement_name = [\n",
        "    'Quality of life',\n",
        "    'Cardial',\n",
        "    'Posture',\n",
        "    'Activity'\n",
        "];\n",
        "backend_name = [\n",
        "    'Without smart shoes', \n",
        "    'Without smart watch', \n",
        "    'Without smart phone', \n",
        "    'Without O2 detector',\n",
        "    'Without cloud infrastructure'\n",
        "];\n",
        "\n",
        "def loss_value(value_graph_model, r, i_array):\n",
        "    return_loss_value = keract.get_activations(\n",
        "        value_graph_model,\n",
        "        [r, np.array([i_array])]\n",
        "    );\n",
        "    return(return_loss_value);\n",
        "\n",
        "\n",
        "#\n",
        "# Input global variable: percentage\n",
        "#\n",
        "def print_final_value_perctentage(loss_percentage_array):\n",
        "    level_0_names = [requirement_name, backend_name]; \n",
        "    # we are eliminating only bavckend functionalities\n",
        "    level_0_names = [backend_name];\n",
        "    \n",
        "    # set up the model 'value_graph_model' \n",
        "    value_graph_model = setup_model(my_weights);\n",
        "    \n",
        "    # get output_name value without output_name type\n",
        "    print(\"{:.2f}\".format(loss_value(value_graph_model, \n",
        "                                     r_R,\n",
        "                                     [0]*5)[output_name][0][0] \n",
        "                         ),\n",
        "          ': Final value with all backend functionalities'\n",
        "         );\n",
        "\n",
        "    for level_0_functionality in range(0,len(level_0_names)):\n",
        "        j = int(10 * percentage );\n",
        "        \n",
        "        loss_percentage_array[0][j] = round(\n",
        "            loss_value(value_graph_model,\n",
        "                       r_R,\n",
        "                       [0]*5\n",
        "                      )[output_name][0][0],\n",
        "            2\n",
        "        );\n",
        "\n",
        "        loss_percentage_array[0][0] = 'Implemented ALL';\n",
        "    \n",
        "        for i in range(0,len(level_0_names[level_0_functionality])):\n",
        "            funct_array    = [0]*len(level_0_names[level_0_functionality]);\n",
        "            funct_array[i] = 1;\n",
        "            \n",
        "            # get name of backend functionality\n",
        "            loss_percentage_array[i+1][0] = level_0_names[\n",
        "                                                level_0_functionality\n",
        "                                            ][i];\n",
        "            \n",
        "            # get output_name value without output_name type\n",
        "            loss_percentage_array[i+1][j] = round(\n",
        "                loss_value(value_graph_model,\n",
        "                           r_R,\n",
        "                           funct_array\n",
        "                          )[output_name][0][0],\n",
        "                2\n",
        "            );\n",
        "            print('  ',\n",
        "                  # get output_name value without output_name type\n",
        "                  \"{:.2f}\".format( \n",
        "                      loss_value(value_graph_model,\n",
        "                                 r_R,\n",
        "                                 funct_array\n",
        "                                )[output_name][0][0] \n",
        "                  ),\n",
        "                  ':',\n",
        "#                  'Without',\n",
        "                  loss_percentage_array[i+1][0],\n",
        "                );"
      ]
    },
    {
      "cell_type": "code",
      "execution_count": 22,
      "metadata": {
        "scrolled": false,
        "colab": {
          "base_uri": "https://localhost:8080/"
        },
        "id": "ArvUph-M_sGK",
        "outputId": "35a0e6dd-a4ec-4500-e6e3-e40260871676"
      },
      "outputs": [
        {
          "output_type": "stream",
          "name": "stdout",
          "text": [
            "\n",
            "10% : defined percentage for trade off function\n",
            "---------------------------------------------\n",
            "0.20 : Final value with all backend functionalities\n",
            "   0.17 : Without smart shoes\n",
            "   0.08 : Without smart watch\n",
            "   0.16 : Without smart phone\n",
            "   0.16 : Without O2 detector\n",
            "   0.00 : Without cloud infrastructure\n",
            "\n",
            "20% : defined percentage for trade off function\n",
            "---------------------------------------------\n",
            "0.38 : Final value with all backend functionalities\n",
            "   0.31 : Without smart shoes\n",
            "   0.15 : Without smart watch\n",
            "   0.31 : Without smart phone\n",
            "   0.29 : Without O2 detector\n",
            "   0.00 : Without cloud infrastructure\n",
            "\n",
            "30% : defined percentage for trade off function\n",
            "---------------------------------------------\n",
            "0.54 : Final value with all backend functionalities\n",
            "   0.44 : Without smart shoes\n",
            "   0.20 : Without smart watch\n",
            "   0.44 : Without smart phone\n",
            "   0.40 : Without O2 detector\n",
            "   0.00 : Without cloud infrastructure\n",
            "\n",
            "40% : defined percentage for trade off function\n",
            "---------------------------------------------\n",
            "0.67 : Final value with all backend functionalities\n",
            "   0.54 : Without smart shoes\n",
            "   0.23 : Without smart watch\n",
            "   0.54 : Without smart phone\n",
            "   0.49 : Without O2 detector\n",
            "   0.00 : Without cloud infrastructure\n",
            "\n",
            "50% : defined percentage for trade off function\n",
            "---------------------------------------------\n",
            "0.78 : Final value with all backend functionalities\n",
            "   0.62 : Without smart shoes\n",
            "   0.25 : Without smart watch\n",
            "   0.63 : Without smart phone\n",
            "   0.55 : Without O2 detector\n",
            "   0.00 : Without cloud infrastructure\n",
            "\n",
            "60% : defined percentage for trade off function\n",
            "---------------------------------------------\n",
            "0.85 : Final value with all backend functionalities\n",
            "   0.67 : Without smart shoes\n",
            "   0.26 : Without smart watch\n",
            "   0.68 : Without smart phone\n",
            "   0.59 : Without O2 detector\n",
            "   0.00 : Without cloud infrastructure\n",
            "\n",
            "70% : defined percentage for trade off function\n",
            "---------------------------------------------\n",
            "0.89 : Final value with all backend functionalities\n",
            "   0.70 : Without smart shoes\n",
            "   0.26 : Without smart watch\n",
            "   0.72 : Without smart phone\n",
            "   0.61 : Without O2 detector\n",
            "   0.00 : Without cloud infrastructure\n",
            "\n",
            "80% : defined percentage for trade off function\n",
            "---------------------------------------------\n",
            "0.90 : Final value with all backend functionalities\n",
            "   0.71 : Without smart shoes\n",
            "   0.26 : Without smart watch\n",
            "   0.73 : Without smart phone\n",
            "   0.61 : Without O2 detector\n",
            "   0.00 : Without cloud infrastructure\n",
            "\n",
            "90% : defined percentage for trade off function\n",
            "---------------------------------------------\n",
            "0.90 : Final value with all backend functionalities\n",
            "   0.71 : Without smart shoes\n",
            "   0.26 : Without smart watch\n",
            "   0.73 : Without smart phone\n",
            "   0.61 : Without O2 detector\n",
            "   0.00 : Without cloud infrastructure\n"
          ]
        }
      ],
      "source": [
        "#\n",
        "# Compute and print risk estimations for percentages from 10% to 90%\n",
        "#\n",
        "\n",
        "# initialize 'loss_percentage_array'\n",
        "loss_percentage_array = [[0 for i in range(10)] for j in range(6)];\n",
        "\n",
        "# Note: percentage is global!\n",
        "for j in range(0,9):\n",
        "    percentage = (j+1)/10\n",
        "    # Write values\n",
        "    print(\"\\n{:n}% : defined percentage for trade off function\".\n",
        "          format( percentage*100 )\n",
        "    );\n",
        "    print(\"-\"*45);\n",
        "    \n",
        "    # percentage is parameter defined as GlOBAL variable\n",
        "    print_final_value_perctentage(loss_percentage_array); "
      ]
    },
    {
      "cell_type": "code",
      "execution_count": 23,
      "metadata": {
        "scrolled": true,
        "colab": {
          "base_uri": "https://localhost:8080/"
        },
        "id": "5Xoff6Vs_sGL",
        "outputId": "93610d9a-881b-42fc-e90d-6ffe42685891"
      },
      "outputs": [
        {
          "output_type": "execute_result",
          "data": {
            "text/plain": [
              "[['Implemented ALL', 0.2, 0.38, 0.54, 0.67, 0.78, 0.85, 0.89, 0.9, 0.9],\n",
              " ['Without smart shoes', 0.17, 0.31, 0.44, 0.54, 0.62, 0.67, 0.7, 0.71, 0.71],\n",
              " ['Without smart watch', 0.08, 0.15, 0.2, 0.23, 0.25, 0.26, 0.26, 0.26, 0.26],\n",
              " ['Without smart phone', 0.16, 0.31, 0.44, 0.54, 0.63, 0.68, 0.72, 0.73, 0.73],\n",
              " ['Without O2 detector', 0.16, 0.29, 0.4, 0.49, 0.55, 0.59, 0.61, 0.61, 0.61],\n",
              " ['Without cloud infrastructure', 0.0, 0.0, 0.0, 0.0, 0.0, 0.0, 0.0, 0.0, 0.0]]"
            ]
          },
          "metadata": {},
          "execution_count": 23
        }
      ],
      "source": [
        "#\n",
        "# Summary about functionality risk estimation\n",
        "#\n",
        "loss_percentage_array"
      ]
    },
    {
      "cell_type": "code",
      "execution_count": 24,
      "metadata": {
        "colab": {
          "base_uri": "https://localhost:8080/"
        },
        "id": "NBwDxrLc_sGL",
        "outputId": "ca4770c6-51df-48b6-cc67-7cfb8072a7a0"
      },
      "outputs": [
        {
          "output_type": "execute_result",
          "data": {
            "text/plain": [
              "[['Implemented ALL', 0.2, 0.38, 0.54, 0.67, 0.78, 0.85, 0.89, 0.9, 0.9],\n",
              " ['Without smart phone', 0.16, 0.31, 0.44, 0.54, 0.63, 0.68, 0.72, 0.73, 0.73],\n",
              " ['Without smart shoes', 0.17, 0.31, 0.44, 0.54, 0.62, 0.67, 0.7, 0.71, 0.71],\n",
              " ['Without O2 detector', 0.16, 0.29, 0.4, 0.49, 0.55, 0.59, 0.61, 0.61, 0.61],\n",
              " ['Without smart watch', 0.08, 0.15, 0.2, 0.23, 0.25, 0.26, 0.26, 0.26, 0.26],\n",
              " ['Without cloud infrastructure', 0.0, 0.0, 0.0, 0.0, 0.0, 0.0, 0.0, 0.0, 0.0]]"
            ]
          },
          "metadata": {},
          "execution_count": 24
        }
      ],
      "source": [
        "#\n",
        "# Sort functionality risk estimation by 90 % of trade-off function\n",
        "#\n",
        "loss_percentage_array.sort(\n",
        "    reverse=True,\n",
        "    key=lambda tradeoff90: tradeoff90[9]\n",
        ")\n",
        "loss_percentage_array"
      ]
    },
    {
      "cell_type": "code",
      "execution_count": 24,
      "metadata": {
        "id": "-sNzeDYV_sGL"
      },
      "outputs": [],
      "source": []
    },
    {
      "cell_type": "markdown",
      "metadata": {
        "id": "A-ITkOdg_sGM"
      },
      "source": [
        "## Presenting results"
      ]
    },
    {
      "cell_type": "markdown",
      "metadata": {
        "id": "m1R7UIn6_sGM"
      },
      "source": [
        "### Plot loss values according to skipped items from Backend functionality layer"
      ]
    },
    {
      "cell_type": "code",
      "execution_count": 25,
      "metadata": {
        "colab": {
          "base_uri": "https://localhost:8080/",
          "height": 383
        },
        "id": "h7JHXHUn_sGM",
        "outputId": "c930c3cc-2fb2-428c-824c-1771dc411701"
      },
      "outputs": [
        {
          "output_type": "stream",
          "name": "stdout",
          "text": [
            "0 Implemented ALL\n",
            "1 Without smart phone\n",
            "2 Without smart shoes\n",
            "3 Without O2 detector\n",
            "4 Without smart watch\n",
            "5 Without cloud infrastructure\n"
          ]
        },
        {
          "output_type": "display_data",
          "data": {
            "text/plain": [
              "<Figure size 432x288 with 1 Axes>"
            ],
            "image/png": "[encoded data removed]"
          },
          "metadata": {
            "needs_background": "light"
          }
        }
      ],
      "source": [
        "#\n",
        "# Plot results form 'Rist estimation' computations\n",
        "#\n",
        "\n",
        "back_names = [];\n",
        "for i in range(0,6):\n",
        "    print(i,loss_percentage_array[i][0]);\n",
        "    back_names.append(loss_percentage_array[i][0]);\n",
        "    plt.plot([*range(10,100,10)], loss_percentage_array[i][1:10]);\n",
        "\n",
        "plt.legend(back_names);\n",
        "plt.ylabel('% of realised value of the product');\n",
        "plt.xlabel('% for trade off function');\n",
        "\n",
        "plt.savefig('value_retained.pdf');"
      ]
    },
    {
      "cell_type": "markdown",
      "metadata": {
        "id": "vaqzQXvB_sGM"
      },
      "source": [
        "### Legend is placed outside a plot"
      ]
    },
    {
      "cell_type": "code",
      "execution_count": 26,
      "metadata": {
        "scrolled": false,
        "colab": {
          "base_uri": "https://localhost:8080/",
          "height": 383
        },
        "id": "ofzS2FIc_sGM",
        "outputId": "69bf32c9-e3ba-4703-fa51-b6a6823b22db"
      },
      "outputs": [
        {
          "output_type": "stream",
          "name": "stdout",
          "text": [
            "Implemented ALL\n",
            "Without smart phone\n",
            "Without smart shoes\n",
            "Without O2 detector\n",
            "Without smart watch\n",
            "Without cloud infrastructure\n"
          ]
        },
        {
          "output_type": "display_data",
          "data": {
            "text/plain": [
              "<Figure size 504x288 with 1 Axes>"
            ],
            "image/png": "[encoded data removed]"
          },
          "metadata": {
            "needs_background": "light"
          }
        }
      ],
      "source": [
        "#\n",
        "# Plot results form 'Risk estimation' computations\n",
        "#\n",
        "\n",
        "# define plot size to place legend in the figure during 'savefig'\n",
        "fig = plt.figure(figsize=(7,4));\n",
        "\n",
        "back_names = [];\n",
        "for i in range(0,6):\n",
        "    print(loss_percentage_array[i][0]);\n",
        "    back_names.append(loss_percentage_array[i][0]);\n",
        "    plt.plot([*range(10,100,10)], loss_percentage_array[i][1:10]);\n",
        "\n",
        "# put legend outside a plot\n",
        "legend_x = -0.5;\n",
        "legend_y = 0.5;\n",
        "plt.ylabel('% of realised value of the product');\n",
        "plt.xlabel('% for trade off function');\n",
        "plt.legend(back_names, loc='center left', bbox_to_anchor=(legend_x, legend_y))\n",
        "\n",
        "# bbox_inches = 'tight' : try to figure out the tight bbox of the figure\n",
        "plt.savefig('value_retained-left_legend.pdf', bbox_inches = 'tight');"
      ]
    },
    {
      "cell_type": "code",
      "execution_count": 27,
      "metadata": {
        "colab": {
          "base_uri": "https://localhost:8080/",
          "height": 383
        },
        "id": "DqO4li3J_sGN",
        "outputId": "dbd2553c-776b-41b8-e2ff-6530fa67fdb1"
      },
      "outputs": [
        {
          "output_type": "stream",
          "name": "stdout",
          "text": [
            "Implemented ALL\n",
            "Without smart phone\n",
            "Without smart shoes\n",
            "Without O2 detector\n",
            "Without smart watch\n",
            "Without cloud infrastructure\n"
          ]
        },
        {
          "output_type": "display_data",
          "data": {
            "text/plain": [
              "<Figure size 504x288 with 1 Axes>"
            ],
            "image/png": "[encoded data removed]"
          },
          "metadata": {
            "needs_background": "light"
          }
        }
      ],
      "source": [
        "#\n",
        "# Plot results form 'Risk estimation' computations\n",
        "#\n",
        "\n",
        "# define plot size to place legend in the figure during 'savefig'\n",
        "fig = plt.figure(figsize=(7,4));\n",
        "\n",
        "back_names = [];\n",
        "for i in range(0,6):\n",
        "    print(loss_percentage_array[i][0]);\n",
        "    back_names.append(loss_percentage_array[i][0]);\n",
        "    plt.plot([*range(10,100,10)], loss_percentage_array[i][1:10]);\n",
        "\n",
        "# put legend outside a plot\n",
        "legend_x = 1;\n",
        "legend_y = 0.5;\n",
        "plt.ylabel('% of realised value of the product');\n",
        "plt.xlabel('% for trade off function');\n",
        "plt.legend(back_names, loc='center left', bbox_to_anchor=(legend_x, legend_y))\n",
        "\n",
        "# bbox_inches = 'tight' : try to figure out the tight bbox of the figure\n",
        "plt.savefig('value_retained-right-legend.pdf', bbox_inches = 'tight');"
      ]
    },
    {
      "cell_type": "markdown",
      "metadata": {
        "id": "y-PLRPQr_sGN"
      },
      "source": [
        "## Additional/Optional information"
      ]
    },
    {
      "cell_type": "markdown",
      "metadata": {
        "id": "YwmZvdWB_sGN"
      },
      "source": [
        "### About activation function\n",
        "\n",
        "Requirements for activation function $y()$ defined as Python function ```tradeoff()```\n",
        "1. $y(0) = 0  $\n",
        "1. $y'(0) = 1 $\n",
        "1. $y(x) \\le x, \\; x \\in [0,1] $\n",
        "1. $y(1) = percentage $"
      ]
    },
    {
      "cell_type": "code",
      "execution_count": 28,
      "metadata": {
        "scrolled": false,
        "colab": {
          "base_uri": "https://localhost:8080/",
          "height": 411
        },
        "id": "5dfXEj4__sGN",
        "outputId": "7774dd90-b5ae-49c6-8f20-e3320df5971c"
      },
      "outputs": [
        {
          "output_type": "display_data",
          "data": {
            "text/plain": [
              "<Figure size 1008x504 with 1 Axes>"
            ],
            "image/png": "[encoded data removed]"
          },
          "metadata": {
            "needs_background": "light"
          }
        }
      ],
      "source": [
        "#\n",
        "# Plot for the 'tradeoff' activation function\n",
        "#\n",
        "\n",
        "fig = plt.figure(figsize=(14,7));\n",
        "gs = gridspec.GridSpec(nrows=1, ncols=2);\n",
        "\n",
        "# 100 linearly spaced numbers\n",
        "x = np.linspace(0,1,100);\n",
        "\n",
        "# setting the axes at the centre\n",
        "\n",
        "ax1 = fig.add_subplot(gs[0, 1]);\n",
        "ax1.spines['left'].set_position('zero');\n",
        "ax1.spines['bottom'].set_position('zero');\n",
        "ax1.spines['right'].set_color('none');\n",
        "ax1.spines['top'].set_color('none');\n",
        "#ax1.xaxis.set_ticks_position('bottom');\n",
        "#ax1.yaxis.set_ticks_position('left');\n",
        "\n",
        "# plot the indentiy function red\n",
        "y0 = x;\n",
        "plt.plot(x,y0, 'r');\n",
        "# plot the 80% tradeoff function function blue\n",
        "percentage = 0.8;\n",
        "y1 = tradeoff(x);\n",
        "plt.plot(x,y1, 'b');\n",
        "\n",
        "plt.xticks(np.arange(0.2, 1.1, step=0.2));  # Set label locations.\n",
        "plt.yticks(np.arange(0.2, 1.1, step=0.2));  # Set label locations.\n",
        "\n",
        "plt.axvline(x=1, ymin=0.05, color='k', linestyle=(0, (1, 7)));\n",
        "plt.axhline(y=1, xmin=0.05, color='k', linestyle=(0, (1, 7)));\n",
        "plt.axhline(y=0.8, xmin=0.05, color='k', linestyle=(0, (1, 7)));\n",
        "\n",
        "#plt.tight_layout();\n",
        "plt.show();"
      ]
    },
    {
      "cell_type": "code",
      "source": [],
      "metadata": {
        "id": "3bfAcUm7DylU"
      },
      "execution_count": 28,
      "outputs": []
    }
  ],
  "metadata": {
    "colab": {
      "collapsed_sections": [],
      "name": "Value_graph_vINCI_1.ipynb",
      "provenance": [],
      "include_colab_link": true
    },
    "kernelspec": {
      "display_name": "Python 3 (ipykernel)",
      "language": "python",
      "name": "python3"
    },
    "language_info": {
      "codemirror_mode": {
        "name": "ipython",
        "version": 3
      },
      "file_extension": ".py",
      "mimetype": "text/x-python",
      "name": "python",
      "nbconvert_exporter": "python",
      "pygments_lexer": "ipython3",
      "version": "3.9.7"
    },
    "toc": {
      "base_numbering": 1,
      "nav_menu": {
        "height": "344.986px",
        "width": "272.997px"
      },
      "number_sections": true,
      "sideBar": true,
      "skip_h1_title": true,
      "title_cell": "Table of Contents",
      "title_sidebar": "Contents",
      "toc_cell": true,
      "toc_position": {
        "height": "calc(100% - 180px)",
        "left": "10px",
        "top": "150px",
        "width": "284.975px"
      },
      "toc_section_display": true,
      "toc_window_display": true
    },
    "gpuClass": "standard"
  },
  "nbformat": 4,
  "nbformat_minor": 0
}