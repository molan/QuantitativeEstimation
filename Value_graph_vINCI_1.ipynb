{
  "cells": [
    {
      "cell_type": "markdown",
      "metadata": {
        "id": "vKb8GoWCJf6r"
      },
      "source": [
        "# Case 1: Computation on value graph for vINCI\n",
        "\n",
        "1. Martin Molan\n",
        "1. Gregor Molan\n",
        "\n",
        "+ 2021-05-16\n",
        "+ 2021-06-30 .. layer -> subgraph\n",
        "+ 2021-07-03 .. vINCI\n",
        "+ 2022-07-20 .. new build with new Keras, Tensorflow (need nightly build), Keract, Matplotlib\n",
        "```\n",
        "conda install keras\n",
        "conda install tensorflow\n",
        "pip install keract\n",
        "pip install matplotlib\n",
        "pip install tf-nightly\n",
        "jupyter notebook Value_graph_vINCI.1.ipynb\n",
        "```\n",
        "+ 2022-07-21\n",
        "    * Sort functionality risk estimation by 90 % of trade-off function : `lst_loss_percentage`\n",
        "    * Correctly plot results - use 5 backend items and final value: `for i in range(0,6):`\n",
        "\n",
        "+ 2023-01-05\n",
        "  * Tested on https://colab.research.google.com/\n",
        "+ 2023-01-11\n",
        "  * Public available code\n",
        "  * Strict variable naming (see %whos)"
      ]
    },
    {
      "cell_type": "markdown",
      "metadata": {
        "id": "teWc4bII_ETB"
      },
      "source": [
        "## Prerequisites"
      ]
    },
    {
      "cell_type": "markdown",
      "source": [
        "### Install"
      ],
      "metadata": {
        "id": "5U4j5DEZ_Jrm"
      }
    },
    {
      "cell_type": "code",
      "source": [
        "#!pip install keras\n",
        "#!pip install tensorflow\n",
        "!pip install keract\n",
        "#!pip install matplotlib\n",
        "#!pip install tf-nightly"
      ],
      "metadata": {
        "id": "ScvXIhWZJ5c6",
        "colab": {
          "base_uri": "https://localhost:8080/"
        },
        "outputId": "afc20509-a95f-4227-c110-ca2fcd413d5c"
      },
      "execution_count": 1,
      "outputs": [
        {
          "output_type": "stream",
          "name": "stdout",
          "text": [
            "Looking in indexes: https://pypi.org/simple, https://us-python.pkg.dev/colab-wheels/public/simple/\n",
            "Requirement already satisfied: keract in /usr/local/lib/python3.8/dist-packages (4.5.1)\n"
          ]
        }
      ]
    },
    {
      "cell_type": "markdown",
      "metadata": {
        "id": "f_cswSoWJf6t"
      },
      "source": [
        "### Import"
      ]
    },
    {
      "cell_type": "code",
      "execution_count": 2,
      "metadata": {
        "id": "2oAc-WyJ6bsl"
      },
      "outputs": [],
      "source": [
        "import keras;\n",
        "#   from keras.layers import Activation, Concatenate, Dense, Input, Layer\n",
        "#   from keras.models import Model\n",
        "#   from keras.utils.vis_utils import plot_model;\n",
        "\n",
        "# import keract; \n",
        "from keract import get_activations as f_keract_get_activations;\n",
        "from keract import get_gradients_of_activations as f_keract_get_gradients_of_activations;\n",
        "\n",
        "import numpy as m_np\n",
        "import tensorflow as m_tf\n",
        "\n",
        "import matplotlib.pyplot as m_plt;\n",
        "import matplotlib.gridspec as m_gridspec;"
      ]
    },
    {
      "cell_type": "markdown",
      "metadata": {
        "id": "0T1Y3eB4Jf6u"
      },
      "source": [
        "## Value graph definition"
      ]
    },
    {
      "cell_type": "markdown",
      "metadata": {
        "id": "G5s1GHNJJf6v"
      },
      "source": [
        "### Definition of model topology"
      ]
    },
    {
      "cell_type": "code",
      "execution_count": 3,
      "metadata": {
        "id": "lhC48vrzJf6v"
      },
      "outputs": [],
      "source": [
        "#\n",
        "# Class for merging Requirement and Backend functionality layers\n",
        "#\n",
        "class class_requ_back(keras.layers.Layer):\n",
        "    def __init__(self, units=32, input_dim1=32,\n",
        "               input_dim2=32):\n",
        "        super(class_requ_back, self).__init__()\n",
        "\n",
        "        # Var. for weights for requirement signal\n",
        "        # is defined as \"trainable variable\".\n",
        "        # Generate initialized tensors.\n",
        "        w_init1 = m_tf.ones_initializer()\n",
        "        self.requirements_variable = m_tf.Variable(\n",
        "            initial_value = w_init1(\n",
        "                shape=(input_dim1, units),\n",
        "                dtype=\"float32\"),\n",
        "            trainable=True\n",
        "        )\n",
        "\n",
        "        # Variable for weights for backend signal\n",
        "        # is defined as \"trainable variable\"\n",
        "        w_init2 = m_tf.random_normal_initializer()\n",
        "        self.backend_variable = m_tf.Variable(\n",
        "            initial_value = w_init2(\n",
        "                shape=(input_dim2, units),\n",
        "                dtype=\"float32\"),\n",
        "            trainable=True\n",
        "        )\n",
        "\n",
        "        # Bias need to be defined if use it or not\n",
        "        bias_init = m_tf.random_normal_initializer()\n",
        "        self.my_dummy_bias = m_tf.Variable(\n",
        "            initial_value = bias_init(\n",
        "                shape=(units,),dtype=\"float32\"),\n",
        "            trainable=True\n",
        "        )\n",
        "    \n",
        "    def call(self, inputs):\n",
        "        # Multiplies input vector `input_req`\n",
        "        # by matrix requirements_variable \n",
        "        requirement_matrix = m_tf.matmul(\n",
        "            inputs[0],\n",
        "            self.requirements_variable)\n",
        "\n",
        "        # Multipliesn input vector `input_backend` \n",
        "        # by matrix requirements_variable \n",
        "        backend_matrix = m_tf.matmul(\n",
        "            inputs[1], self.backend_variable)\n",
        "\n",
        "        requirement_and_backend = (\n",
        "            requirement_matrix \n",
        "            - requirement_matrix * backend_matrix \n",
        "            + self.my_dummy_bias\n",
        "        )\n",
        "#        print(\"Matrices in class class_requ_back:\")\n",
        "#        print(\"---------------------------\")\n",
        "#        print(requirement_matrix, \"  \\t= requirement_matrix\")\n",
        "#        print(backend_matrix, \"\\t= backend_matrix\")\n",
        "#        print(requirement_and_backend, \"    \\t= requirement_and_backend\")\n",
        "    \n",
        "        return requirement_and_backend"
      ]
    },
    {
      "cell_type": "markdown",
      "metadata": {
        "id": "_CpiK8-FJf6v"
      },
      "source": [
        "### Definition of input parameters (graph edge weights)"
      ]
    },
    {
      "cell_type": "code",
      "execution_count": 4,
      "metadata": {
        "id": "-qWRPe0ZJf6v"
      },
      "outputs": [],
      "source": [
        "#\n",
        "# Graph arch values for arcs\n",
        "# from requirement layer to core functionality layer\n",
        "#\n",
        "ndarr_w_R_0_1 = m_np.array([\n",
        "    [0.1, 0.2, 0.2, 0.5],\n",
        "    [  0, 0.4, 0,   0.6],\n",
        "    [0.7, 0.3, 0,   0  ],\n",
        "    [  0, 0.3, 0.3, 0.4]\n",
        "]);\n",
        "ndarr_bias_r = m_np.array([0., 0., 0., 0.])\n",
        "#\n",
        "# Graph arch values for arcs\n",
        "# from backend functionality layer to core functionality layer\n",
        "#\n",
        "ndarr_w_B_0_1 = m_np.array([\n",
        "    [ 0.6,  0.4, 0,   0  ],\n",
        "    [ 0.6,  0.6, 0.8, 0.8],\n",
        "    [ 0.1,  0.1, 0.9, 0  ],\n",
        "    [ 0,    0,   0,   0.8],\n",
        "    [ 1,    1,   1,   1  ]\n",
        "]);\n",
        "ndarr_bias_b = m_np.array([0., 0., 0., 0.])\n",
        "\n",
        "#\n",
        "# Graph arch values for arcs\n",
        "# from core functionality layer and edge functionality layer\n",
        "#\n",
        "ndarr_w_1_2 = m_np.array([\n",
        "    [0.05, 0.00, 0.95],\n",
        "    [0.3,  0.3,  0.4],\n",
        "    [0.4,  0.0,  0.6],\n",
        "    [0.3,  0.0,  0.7]\n",
        "]);\n",
        "\n",
        "\n",
        "#\n",
        "# Bias for Edge functionality layer\n",
        "#\n",
        "ndarr_bias_Edge = m_np.array([\n",
        "    0,\n",
        "    0,\n",
        "    0\n",
        "]);\n",
        "\n",
        "#\n",
        "# Graph arch values for arc\n",
        "# from edge functionality layer and value layer\n",
        "#\n",
        "ndarr_w_2_3 = m_np.array([\n",
        "    [0.8],\n",
        "    [0.5],\n",
        "    [  1]\n",
        "]);\n",
        "\n",
        "#\n",
        "# Bias for Value layer\n",
        "#\n",
        "ndarr_bias_value = m_np.array([\n",
        "    0\n",
        "]);\n",
        "\n",
        "lst_model_weights = [\n",
        "   ndarr_w_R_0_1,\n",
        "   ndarr_bias_r,\n",
        "   ndarr_w_B_0_1,\n",
        "   ndarr_bias_b,\n",
        "   ndarr_w_1_2,\n",
        "   ndarr_bias_Edge,\n",
        "   ndarr_w_2_3,\n",
        "   ndarr_bias_value\n",
        "]"
      ]
    },
    {
      "cell_type": "code",
      "source": [
        "%whos"
      ],
      "metadata": {
        "colab": {
          "base_uri": "https://localhost:8080/"
        },
        "id": "AaHuMhA0cEdl",
        "outputId": "552200bf-02e6-45b3-e450-d2990291b3ec"
      },
      "execution_count": 5,
      "outputs": [
        {
          "output_type": "stream",
          "name": "stdout",
          "text": [
            "Variable                                Type        Data/Info\n",
            "-------------------------------------------------------------\n",
            "class_requ_back                         type        <class '__main__.class_requ_back'>\n",
            "f_keract_get_activations                function    <function get_activations at 0x7f566510d310>\n",
            "f_keract_get_gradients_of_activations   function    <function get_gradients_o<...>ations at 0x7f5665105ca0>\n",
            "keras                                   module      <module 'keras' from '/us<...>kages/keras/__init__.py'>\n",
            "lst_model_weights                       list        n=8\n",
            "m_gridspec                              module      <module 'matplotlib.grids<...>/matplotlib/gridspec.py'>\n",
            "m_np                                    module      <module 'numpy' from '/us<...>kages/numpy/__init__.py'>\n",
            "m_plt                                   module      <module 'matplotlib.pyplo<...>es/matplotlib/pyplot.py'>\n",
            "m_tf                                    module      <module 'tensorflow' from<...>/tensorflow/__init__.py'>\n",
            "ndarr_bias_Edge                         ndarray     3: 3 elems, type `int64`, 24 bytes\n",
            "ndarr_bias_b                            ndarray     4: 4 elems, type `float64`, 32 bytes\n",
            "ndarr_bias_r                            ndarray     4: 4 elems, type `float64`, 32 bytes\n",
            "ndarr_bias_value                        ndarray     1: 1 elems, type `int64`, 8 bytes\n",
            "ndarr_w_1_2                             ndarray     4x3: 12 elems, type `float64`, 96 bytes\n",
            "ndarr_w_2_3                             ndarray     3x1: 3 elems, type `float64`, 24 bytes\n",
            "ndarr_w_B_0_1                           ndarray     5x4: 20 elems, type `float64`, 160 bytes\n",
            "ndarr_w_R_0_1                           ndarray     4x4: 16 elems, type `float64`, 128 bytes\n"
          ]
        }
      ]
    },
    {
      "cell_type": "markdown",
      "metadata": {
        "id": "91Azbf-dJf6w"
      },
      "source": [
        "### Definition of input variables"
      ]
    },
    {
      "cell_type": "code",
      "execution_count": 6,
      "metadata": {
        "id": "3ztTWpjsJf6w"
      },
      "outputs": [],
      "source": [
        "#\n",
        "# Input variables in vectors for Requirements (r_R) and Bias (r_B)\n",
        "#\n",
        "r_R = m_np.array([[0.4,0.133,0.2,0.267]]);\n",
        "r_B = m_np.array([[0,0,0,0,0]]);"
      ]
    },
    {
      "cell_type": "markdown",
      "metadata": {
        "id": "UCOq8amZJf6w"
      },
      "source": [
        "### Custom activation function"
      ]
    },
    {
      "cell_type": "code",
      "execution_count": 7,
      "metadata": {
        "id": "atTgMk3mJf6w"
      },
      "outputs": [],
      "source": [
        "#\n",
        "# NOTE: fl_gl_percentage is global variable!\n",
        "#\n",
        "def f_tradeoff(x):\n",
        "    n = 1 / (1-fl_gl_percentage);\n",
        "    y = x - x**n/n;\n",
        "    return(y)"
      ]
    },
    {
      "cell_type": "markdown",
      "metadata": {
        "id": "3lJYbn9iJf6w"
      },
      "source": [
        "### Definition of learning rate"
      ]
    },
    {
      "cell_type": "code",
      "execution_count": 8,
      "metadata": {
        "id": "AH1wLBzdJf6w"
      },
      "outputs": [],
      "source": [
        "#\n",
        "# Definition of learning rate for \"Gradient descent (with momentum) optimizer\"\n",
        "#\n",
        "fl_learning_rate = 0.01;"
      ]
    },
    {
      "cell_type": "markdown",
      "metadata": {
        "id": "afCkhSRgJf6w"
      },
      "source": [
        "### Setup the model"
      ]
    },
    {
      "cell_type": "code",
      "execution_count": 9,
      "metadata": {
        "id": "fJ49VUvgJf6w"
      },
      "outputs": [],
      "source": [
        "#\n",
        "# Input:\n",
        "#  fl_gl_percentage\n",
        "#  lst_model_weights\n",
        "\n",
        "# input global variable \n",
        "#  fl_gl_percentage ... percentage in activation function\n",
        "\n",
        "# global variables used for setup custom layer names of the model \n",
        "str_relu_activ_f_name = 'relu_activ';   \n",
        "str_tradeoff_activ_f_name = 'tradeoff_activ';\n",
        "str_output_name = 'output_subgraph';\n",
        "str_edge_name  = 'edge_subgraph';\n",
        "\n",
        "#\n",
        "# Input parameters\n",
        "#  lst_model_weights ... graph edge weights, topology of the model\n",
        "#\n",
        "# Return\n",
        "#  Keras Model class\n",
        "#\n",
        "def f_setup_model(lst_model_weights):\n",
        "    \n",
        "    # Following variables can have arbitrary values (but distinguish)\n",
        "    #   for custom layer names of the model\n",
        "    requ1_name = 'requirement_subgraph_0';\n",
        "    requ2_name = 'requirement_subgraph_1';\n",
        "    back1_name = 'backend_subgraph_0';\n",
        "    back2_name = 'backend_subgraph_1';\n",
        "    \n",
        "    # --- Model definition ---\n",
        "    # Define two sets of input layers\n",
        "    input_req = keras.layers.Input(shape=(4,),name=requ1_name);\n",
        "    dense_req = keras.layers.Dense(4, name='req_dense')(input_req)\n",
        "\n",
        "\n",
        "\n",
        "    input_backend = keras.layers.Input(shape=(5,), name = back1_name);\n",
        "    dense_backend = keras.layers.Dense(4, name ='back_dense')(input_backend)\n",
        "\n",
        "    # Define Core layer\n",
        "    # Core layer consists of 'requ_back',\n",
        "    #    (where name is inherited from class class_requ_back),\n",
        "    # relu activation function (str_relu_activ_f_name)\n",
        "    # and our custom trade-off function (str_tradeoff_activ_f_name).\n",
        "    #requ_back = class_requ_back(4, 4, 5)([input_req,input_backend]);\n",
        "    \n",
        "\n",
        "    layer_f = keras.layers.Multiply()([dense_req,dense_backend])\n",
        "    \n",
        "    layer_ff = keras.layers.subtract([dense_req,layer_f])\n",
        "\n",
        "    #input_relu = keras.layers.Activation(\n",
        "    #                                     'relu',\n",
        "    #                                      name=str_relu_activ_f_name\n",
        "    #                                    )(layer_ff);\n",
        "    core = keras.layers.Activation(\n",
        "                                   f_tradeoff,\n",
        "                                   name=str_tradeoff_activ_f_name\n",
        "                                  )(layer_ff);\n",
        "\n",
        "    # Define Edge layer\n",
        "    edge = keras.layers.Dense(3, name = str_edge_name)(core);\n",
        "    \n",
        "    # Define Value layer\n",
        "    output = keras.layers.Dense(1, name = str_output_name)(edge)\n",
        "\n",
        "    # --- Model compile ---\n",
        "    my_model = keras.models.Model(\n",
        "        inputs=[input_req, input_backend],\n",
        "        outputs=output\n",
        "    )\n",
        "    my_optimizer = keras.optimizers.SGD(learning_rate=fl_learning_rate)\n",
        "    my_model.compile(optimizer=my_optimizer, loss='mse');\n",
        "    \n",
        "    # --- Set model weights ---\n",
        "    my_model.set_weights(lst_model_weights);\n",
        "    \n",
        "    return(my_model);        "
      ]
    },
    {
      "cell_type": "code",
      "execution_count": 10,
      "metadata": {
        "id": "WLrVZyPcJf6x"
      },
      "outputs": [],
      "source": [
        "#\n",
        "# To use f_keract_get_gradients_of_activations in computing gradients\n",
        "# we should disable TF eager mode \n",
        "#\n",
        "m_tf.compat.v1.disable_eager_execution()"
      ]
    },
    {
      "cell_type": "markdown",
      "metadata": {
        "id": "RlfiOmj5Jf6z"
      },
      "source": [
        "## Value graph operations"
      ]
    },
    {
      "cell_type": "markdown",
      "source": [
        "### Calculation of value graph"
      ],
      "metadata": {
        "id": "QYm3vwwyAIRq"
      }
    },
    {
      "cell_type": "code",
      "execution_count": 11,
      "metadata": {
        "id": "blT5GPj6Jf6x"
      },
      "outputs": [],
      "source": [
        "#\n",
        "# Setup the model 'fnal_value_graph_model' \n",
        "# with given 'percentage' for activation function\n",
        "#\n",
        "fl_gl_percentage = 0.8;\n",
        "fnal_value_graph_model = f_setup_model(lst_model_weights);"
      ]
    },
    {
      "cell_type": "code",
      "source": [
        "fnal_value_graph_model.predict([r_R, r_B])"
      ],
      "metadata": {
        "id": "f4y6ORAbYB1u",
        "outputId": "7f0e93a7-378a-4f34-904a-109c169df658",
        "colab": {
          "base_uri": "https://localhost:8080/"
        }
      },
      "execution_count": 12,
      "outputs": [
        {
          "output_type": "stream",
          "name": "stderr",
          "text": [
            "/usr/local/lib/python3.8/dist-packages/keras/engine/training_v1.py:2067: UserWarning: `Model.state_updates` will be removed in a future version. This property should not be used in TensorFlow 2.0, as `updates` are applied automatically.\n",
            "  updates=self.state_updates,\n"
          ]
        },
        {
          "output_type": "execute_result",
          "data": {
            "text/plain": [
              "array([[0.90288174]], dtype=float32)"
            ]
          },
          "metadata": {},
          "execution_count": 12
        }
      ]
    },
    {
      "cell_type": "markdown",
      "metadata": {
        "id": "P0T_jIylJf60"
      },
      "source": [
        "### Compute gradients"
      ]
    },
    {
      "cell_type": "code",
      "execution_count": 13,
      "metadata": {
        "scrolled": true,
        "id": "h6qPg_b7Jf60"
      },
      "outputs": [],
      "source": [
        "#\n",
        "# Compute dictionary of gradients: d_grad\n",
        "#\n",
        "\n",
        "#\n",
        "# Prerequisites:\n",
        "# r_R, r_B ... defined in previous cells\n",
        "#\n",
        "\n",
        "# y value for f_keract_get_gradients_of_activations\n",
        "my_y = m_np.array([[0]]);\n",
        "\n",
        "# Output d_grad is a dictionary of gradients mapping each layer\n",
        "# to the values of its gradients (regarding [r_R, r_B] and my_y).\n",
        "d_grad = f_keract_get_gradients_of_activations(\n",
        "        fnal_value_graph_model, \n",
        "        [r_R, r_B],\n",
        "        my_y,\n",
        "        output_format='simple');"
      ]
    },
    {
      "cell_type": "code",
      "execution_count": 14,
      "metadata": {
        "id": "P6QkWhzYJf60",
        "outputId": "60843a5a-f8e4-489e-9703-b0382fef38cc",
        "colab": {
          "base_uri": "https://localhost:8080/"
        }
      },
      "outputs": [
        {
          "output_type": "execute_result",
          "data": {
            "text/plain": [
              "OrderedDict([('req_dense',\n",
              "              array([[1.7858292, 1.4185945, 1.6602111, 1.6595005]], dtype=float32)),\n",
              "             ('back_dense',\n",
              "              array([[-0.32144928, -0.38770187, -0.26579982, -0.6415629 ]],\n",
              "                    dtype=float32)),\n",
              "             ('multiply',\n",
              "              array([[-1.7858292, -1.4185945, -1.6602111, -1.6595005]], dtype=float32)),\n",
              "             ('subtract',\n",
              "              array([[1.7858292, 1.4185945, 1.6602111, 1.6595005]], dtype=float32)),\n",
              "             ('tradeoff_activ',\n",
              "              array([[1.7877059, 1.4265532, 1.6613026, 1.6974176]], dtype=float32)),\n",
              "             ('edge_subgraph',\n",
              "              array([[1.4446108 , 0.90288174, 1.8057635 ]], dtype=float32)),\n",
              "             ('output_subgraph', array([[1.8057635]], dtype=float32))])"
            ]
          },
          "metadata": {},
          "execution_count": 14
        }
      ],
      "source": [
        "d_grad"
      ]
    },
    {
      "cell_type": "code",
      "execution_count": 15,
      "metadata": {
        "id": "8SE7CELLJf60",
        "outputId": "8f5420e0-01de-4c04-badf-2f804c385beb",
        "colab": {
          "base_uri": "https://localhost:8080/"
        }
      },
      "outputs": [
        {
          "output_type": "stream",
          "name": "stdout",
          "text": [
            "Edge funtionality gradients: [[1.44 0.9  1.81]]\n"
          ]
        }
      ],
      "source": [
        "print(\"Edge funtionality gradients:\",\n",
        "      m_np.round(d_grad[str_edge_name], 2))"
      ]
    },
    {
      "cell_type": "markdown",
      "metadata": {
        "id": "v6bGeQqXJf61"
      },
      "source": [
        "### Print model information"
      ]
    },
    {
      "cell_type": "code",
      "execution_count": 16,
      "metadata": {
        "id": "Y34pFFVpJf61",
        "colab": {
          "base_uri": "https://localhost:8080/"
        },
        "outputId": "f08fadc2-f478-4e8f-ec30-e7bbf32ee5e9"
      },
      "outputs": [
        {
          "output_type": "stream",
          "name": "stdout",
          "text": [
            "Model: \"model\"\n",
            "__________________________________________________________________________________________________\n",
            " Layer (type)                   Output Shape         Param #     Connected to                     \n",
            "==================================================================================================\n",
            " requirement_subgraph_0 (InputL  [(None, 4)]         0           []                               \n",
            " ayer)                                                                                            \n",
            "                                                                                                  \n",
            " backend_subgraph_0 (InputLayer  [(None, 5)]         0           []                               \n",
            " )                                                                                                \n",
            "                                                                                                  \n",
            " req_dense (Dense)              (None, 4)            20          ['requirement_subgraph_0[0][0]'] \n",
            "                                                                                                  \n",
            " back_dense (Dense)             (None, 4)            24          ['backend_subgraph_0[0][0]']     \n",
            "                                                                                                  \n",
            " multiply (Multiply)            (None, 4)            0           ['req_dense[0][0]',              \n",
            "                                                                  'back_dense[0][0]']             \n",
            "                                                                                                  \n",
            " subtract (Subtract)            (None, 4)            0           ['req_dense[0][0]',              \n",
            "                                                                  'multiply[0][0]']               \n",
            "                                                                                                  \n",
            " tradeoff_activ (Activation)    (None, 4)            0           ['subtract[0][0]']               \n",
            "                                                                                                  \n",
            " edge_subgraph (Dense)          (None, 3)            15          ['tradeoff_activ[0][0]']         \n",
            "                                                                                                  \n",
            " output_subgraph (Dense)        (None, 1)            4           ['edge_subgraph[0][0]']          \n",
            "                                                                                                  \n",
            "==================================================================================================\n",
            "Total params: 63\n",
            "Trainable params: 63\n",
            "Non-trainable params: 0\n",
            "__________________________________________________________________________________________________\n"
          ]
        }
      ],
      "source": [
        "#\n",
        "# Print a string summary about the content of built model\n",
        "#\n",
        "fnal_value_graph_model.summary();"
      ]
    },
    {
      "cell_type": "code",
      "execution_count": 17,
      "metadata": {
        "scrolled": true,
        "id": "Z5utac9xJf61",
        "colab": {
          "base_uri": "https://localhost:8080/",
          "height": 754
        },
        "outputId": "b78935eb-2ba9-49ff-8163-70e4a90c1227"
      },
      "outputs": [
        {
          "output_type": "execute_result",
          "data": {
            "image/png": "[encoded data removed]",
            "text/plain": [
              "<IPython.core.display.Image object>"
            ]
          },
          "metadata": {},
          "execution_count": 17
        }
      ],
      "source": [
        "#\n",
        "# Visulize the built model in 'fnal_value_graph_model'\n",
        "#\n",
        "keras.utils.plot_model(\n",
        "    fnal_value_graph_model,\n",
        "    show_shapes=True,\n",
        "    show_layer_names=True, \n",
        "    rankdir = 'fl_learning_rate',\n",
        "    to_file = 'graph_value.pdf'\n",
        ")\n",
        "\n",
        "# print to Jupyter notebokk\n",
        "keras.utils.plot_model(fnal_value_graph_model,\n",
        "           show_shapes=True, \n",
        "           show_layer_names=True,\n",
        "           rankdir = 'fl_learning_rate'\n",
        ")"
      ]
    },
    {
      "cell_type": "markdown",
      "metadata": {
        "id": "jZLisfxNJf62"
      },
      "source": [
        "### Functionality risk estimation"
      ]
    },
    {
      "cell_type": "code",
      "execution_count": 18,
      "metadata": {
        "id": "daU517FEJf62"
      },
      "outputs": [],
      "source": [
        "#\n",
        "# Computation of the Functionality risk\n",
        "#\n",
        "# Functionality risk is an estimated decrease in software product value,\n",
        "# if a certain backend functionality is not implemented.\n",
        "#\n",
        "\n",
        "lst_requirement_name = [\n",
        "    'Quality of life',\n",
        "    'Cardial',\n",
        "    'Posture',\n",
        "    'Activity'\n",
        "];\n",
        "lst_back_names = [\n",
        "    'Without smart shoes', \n",
        "    'Without smart watch', \n",
        "    'Without smart phone', \n",
        "    'Without O2 detector',\n",
        "    'Without cloud infrastructure'\n",
        "];\n",
        "\n",
        "def f_loss_value(fnal_value_graph_model, r, i_array):\n",
        "    return(f_keract_get_activations(\n",
        "        fnal_value_graph_model,\n",
        "        [r, m_np.array([i_array])]\n",
        "    ));\n",
        "\n",
        "#\n",
        "# Input global variable: fl_gl_percentage\n",
        "#\n",
        "def f_print_final_value_percentage(lst_loss_percentage):\n",
        "    level_0_names = [lst_requirement_name, lst_back_names]; \n",
        "    # we are eliminating only bavckend functionalities\n",
        "    level_0_names = [lst_back_names];\n",
        "    \n",
        "    # set up the model 'fnal_value_graph_model' \n",
        "    fnal_value_graph_model = f_setup_model(lst_model_weights);\n",
        "    \n",
        "    # get str_output_name value without str_output_name type\n",
        "    print(\"{:.2f}\".format(f_loss_value(fnal_value_graph_model, \n",
        "                                     r_R,\n",
        "                                     [0]*5)[str_output_name][0][0] \n",
        "                         ),\n",
        "          ': Final value with all backend functionalities'\n",
        "         );\n",
        "\n",
        "    for level_0_functionality in range(0,len(level_0_names)):\n",
        "        j = int(10 * fl_gl_percentage );\n",
        "        \n",
        "        lst_loss_percentage[0][j] = round(\n",
        "            f_loss_value(fnal_value_graph_model,\n",
        "                       r_R,\n",
        "                       [0]*5\n",
        "                      )[str_output_name][0][0],\n",
        "            2\n",
        "        );\n",
        "\n",
        "        lst_loss_percentage[0][0] = 'Implemented ALL';\n",
        "    \n",
        "        for i in range(0,len(level_0_names[level_0_functionality])):\n",
        "            funct_array    = [0]*len(level_0_names[level_0_functionality]);\n",
        "            funct_array[i] = 1;\n",
        "            \n",
        "            # get name of backend functionality\n",
        "            lst_loss_percentage[i+1][0] = level_0_names[\n",
        "                                                level_0_functionality\n",
        "                                            ][i];\n",
        "            \n",
        "            # get str_output_name value without str_output_name type\n",
        "            lst_loss_percentage[i+1][j] = round(\n",
        "                f_loss_value(fnal_value_graph_model,\n",
        "                           r_R,\n",
        "                           funct_array\n",
        "                          )[str_output_name][0][0],\n",
        "                2\n",
        "            );\n",
        "            print('  ',\n",
        "                  # get str_output_name value without str_output_name type\n",
        "                  \"{:.2f}\".format( \n",
        "                      f_loss_value(fnal_value_graph_model,\n",
        "                                 r_R,\n",
        "                                 funct_array\n",
        "                                )[str_output_name][0][0] \n",
        "                  ),\n",
        "                  ':',\n",
        "#                  'Without',\n",
        "                  lst_loss_percentage[i+1][0],\n",
        "                );"
      ]
    },
    {
      "cell_type": "code",
      "execution_count": 19,
      "metadata": {
        "scrolled": false,
        "id": "Mb-vXEv3Jf62",
        "colab": {
          "base_uri": "https://localhost:8080/"
        },
        "outputId": "d56283a6-f0ee-4813-8203-985e53b804da"
      },
      "outputs": [
        {
          "output_type": "stream",
          "name": "stdout",
          "text": [
            "\n",
            "10% : defined percentage for trade off function\n",
            "---------------------------------------------\n",
            "0.20 : Final value with all backend functionalities\n",
            "   0.17 : Without smart shoes\n",
            "   0.08 : Without smart watch\n",
            "   0.16 : Without smart phone\n",
            "   0.16 : Without O2 detector\n",
            "   0.00 : Without cloud infrastructure\n",
            "\n",
            "20% : defined percentage for trade off function\n",
            "---------------------------------------------\n",
            "0.38 : Final value with all backend functionalities\n",
            "   0.31 : Without smart shoes\n",
            "   0.15 : Without smart watch\n",
            "   0.31 : Without smart phone\n",
            "   0.29 : Without O2 detector\n",
            "   0.00 : Without cloud infrastructure\n",
            "\n",
            "30% : defined percentage for trade off function\n",
            "---------------------------------------------\n",
            "0.54 : Final value with all backend functionalities\n",
            "   0.44 : Without smart shoes\n",
            "   0.20 : Without smart watch\n",
            "   0.44 : Without smart phone\n",
            "   0.40 : Without O2 detector\n",
            "   0.00 : Without cloud infrastructure\n",
            "\n",
            "40% : defined percentage for trade off function\n",
            "---------------------------------------------\n",
            "0.67 : Final value with all backend functionalities\n",
            "   0.54 : Without smart shoes\n",
            "   0.23 : Without smart watch\n",
            "   0.54 : Without smart phone\n",
            "   0.49 : Without O2 detector\n",
            "   0.00 : Without cloud infrastructure\n",
            "\n",
            "50% : defined percentage for trade off function\n",
            "---------------------------------------------\n",
            "0.78 : Final value with all backend functionalities\n",
            "   0.62 : Without smart shoes\n",
            "   0.25 : Without smart watch\n",
            "   0.63 : Without smart phone\n",
            "   0.55 : Without O2 detector\n",
            "   0.00 : Without cloud infrastructure\n",
            "\n",
            "60% : defined percentage for trade off function\n",
            "---------------------------------------------\n",
            "0.85 : Final value with all backend functionalities\n",
            "   0.67 : Without smart shoes\n",
            "   0.26 : Without smart watch\n",
            "   0.68 : Without smart phone\n",
            "   0.59 : Without O2 detector\n",
            "   0.00 : Without cloud infrastructure\n",
            "\n",
            "70% : defined percentage for trade off function\n",
            "---------------------------------------------\n",
            "0.89 : Final value with all backend functionalities\n",
            "   0.70 : Without smart shoes\n",
            "   0.26 : Without smart watch\n",
            "   0.72 : Without smart phone\n",
            "   0.61 : Without O2 detector\n",
            "   0.00 : Without cloud infrastructure\n",
            "\n",
            "80% : defined percentage for trade off function\n",
            "---------------------------------------------\n",
            "0.90 : Final value with all backend functionalities\n",
            "   0.71 : Without smart shoes\n",
            "   0.26 : Without smart watch\n",
            "   0.73 : Without smart phone\n",
            "   0.61 : Without O2 detector\n",
            "   0.00 : Without cloud infrastructure\n",
            "\n",
            "90% : defined percentage for trade off function\n",
            "---------------------------------------------\n",
            "0.90 : Final value with all backend functionalities\n",
            "   0.71 : Without smart shoes\n",
            "   0.26 : Without smart watch\n",
            "   0.73 : Without smart phone\n",
            "   0.61 : Without O2 detector\n",
            "   0.00 : Without cloud infrastructure\n"
          ]
        }
      ],
      "source": [
        "#\n",
        "# Compute and print risk estimations for percentages from 10% to 90%\n",
        "#\n",
        "\n",
        "# initialize 'lst_loss_percentage'\n",
        "lst_loss_percentage = [[0 for i in range(10)] for j in range(6)];\n",
        "\n",
        "# Note: fl_gl_percentage is global!\n",
        "for j in range(0,9):\n",
        "    fl_gl_percentage = (j+1)/10\n",
        "    # Write values\n",
        "    print(\"\\n{:n}% : defined percentage for trade off function\".\n",
        "          format( fl_gl_percentage*100 )\n",
        "    );\n",
        "    print(\"-\"*45);\n",
        "    \n",
        "    # fl_gl_percentage is parameter defined as GlOBAL variable\n",
        "    f_print_final_value_percentage(lst_loss_percentage); "
      ]
    },
    {
      "cell_type": "code",
      "execution_count": 20,
      "metadata": {
        "scrolled": true,
        "id": "Tim17ahIJf62",
        "colab": {
          "base_uri": "https://localhost:8080/"
        },
        "outputId": "6474c3b6-766d-43ea-8911-24b7c87b9acf"
      },
      "outputs": [
        {
          "output_type": "execute_result",
          "data": {
            "text/plain": [
              "[['Implemented ALL', 0.2, 0.38, 0.54, 0.67, 0.78, 0.85, 0.89, 0.9, 0.9],\n",
              " ['Without smart shoes', 0.17, 0.31, 0.44, 0.54, 0.62, 0.67, 0.7, 0.71, 0.71],\n",
              " ['Without smart watch', 0.08, 0.15, 0.2, 0.23, 0.25, 0.26, 0.26, 0.26, 0.26],\n",
              " ['Without smart phone', 0.16, 0.31, 0.44, 0.54, 0.63, 0.68, 0.72, 0.73, 0.73],\n",
              " ['Without O2 detector', 0.16, 0.29, 0.4, 0.49, 0.55, 0.59, 0.61, 0.61, 0.61],\n",
              " ['Without cloud infrastructure', 0.0, 0.0, 0.0, 0.0, 0.0, 0.0, 0.0, 0.0, 0.0]]"
            ]
          },
          "metadata": {},
          "execution_count": 20
        }
      ],
      "source": [
        "#\n",
        "# Summary about functionality risk estimation\n",
        "#\n",
        "lst_loss_percentage"
      ]
    },
    {
      "cell_type": "code",
      "execution_count": 21,
      "metadata": {
        "id": "RHQwNZDeJf62",
        "colab": {
          "base_uri": "https://localhost:8080/"
        },
        "outputId": "ef147bf9-3de5-4283-862b-8a9968d7d41c"
      },
      "outputs": [
        {
          "output_type": "execute_result",
          "data": {
            "text/plain": [
              "[['Implemented ALL', 0.2, 0.38, 0.54, 0.67, 0.78, 0.85, 0.89, 0.9, 0.9],\n",
              " ['Without smart phone', 0.16, 0.31, 0.44, 0.54, 0.63, 0.68, 0.72, 0.73, 0.73],\n",
              " ['Without smart shoes', 0.17, 0.31, 0.44, 0.54, 0.62, 0.67, 0.7, 0.71, 0.71],\n",
              " ['Without O2 detector', 0.16, 0.29, 0.4, 0.49, 0.55, 0.59, 0.61, 0.61, 0.61],\n",
              " ['Without smart watch', 0.08, 0.15, 0.2, 0.23, 0.25, 0.26, 0.26, 0.26, 0.26],\n",
              " ['Without cloud infrastructure', 0.0, 0.0, 0.0, 0.0, 0.0, 0.0, 0.0, 0.0, 0.0]]"
            ]
          },
          "metadata": {},
          "execution_count": 21
        }
      ],
      "source": [
        "#\n",
        "# Sort functionality risk estimation by 90 % of trade-off function\n",
        "#\n",
        "lst_loss_percentage.sort(\n",
        "    reverse=True,\n",
        "    key=lambda tradeoff90: tradeoff90[9]\n",
        ")\n",
        "lst_loss_percentage"
      ]
    },
    {
      "cell_type": "markdown",
      "metadata": {
        "id": "ZURxnpvtJf62"
      },
      "source": [
        "## Presenting results"
      ]
    },
    {
      "cell_type": "markdown",
      "metadata": {
        "id": "k48VEBRzJf62"
      },
      "source": [
        "### Plot loss values according to skipped items from Backend functionality layer"
      ]
    },
    {
      "cell_type": "code",
      "execution_count": 22,
      "metadata": {
        "id": "H1l4X0xUJf63",
        "colab": {
          "base_uri": "https://localhost:8080/",
          "height": 386
        },
        "outputId": "5639fef1-daf3-45f8-d56e-cd8a627cffb7"
      },
      "outputs": [
        {
          "output_type": "stream",
          "name": "stdout",
          "text": [
            "Implemented ALL\n",
            "Without smart phone\n",
            "Without smart shoes\n",
            "Without O2 detector\n",
            "Without smart watch\n",
            "Without cloud infrastructure\n"
          ]
        },
        {
          "output_type": "display_data",
          "data": {
            "text/plain": [
              "<Figure size 504x288 with 1 Axes>"
            ],
            "image/png": "[encoded data removed]"
          },
          "metadata": {
            "needs_background": "light"
          }
        }
      ],
      "source": [
        "#\n",
        "# Plot results form 'Risk estimation' computations\n",
        "#\n",
        "\n",
        "# define plot size to place legend in the figure during 'savefig'\n",
        "m_plt.figure(figsize=(7,4));\n",
        "\n",
        "lst_back_names = [];\n",
        "for i in range(0,6):\n",
        "    print(lst_loss_percentage[i][0]);\n",
        "    lst_back_names.append(lst_loss_percentage[i][0]);\n",
        "    m_plt.plot([*range(10,100,10)], lst_loss_percentage[i][1:10]);\n",
        "\n",
        "# put legend outside a plot\n",
        "fl_legend_y = 0.5;\n",
        "m_plt.ylabel('% of realised value of the product');\n",
        "m_plt.xlabel('% for trade off function');\n",
        "m_plt.legend(lst_back_names, loc='center left', bbox_to_anchor=(1, fl_legend_y))\n",
        "\n",
        "# bbox_inches = 'tight' : try to figure out the tight bbox of the figure\n",
        "m_plt.savefig('value_retained-right-legend.pdf', bbox_inches = 'tight');"
      ]
    },
    {
      "cell_type": "markdown",
      "metadata": {
        "id": "rROMnck8Jf63"
      },
      "source": [
        "## Additional/Optional information"
      ]
    },
    {
      "cell_type": "markdown",
      "metadata": {
        "id": "AvSTSH0pJf63"
      },
      "source": [
        "### About activation function\n",
        "\n",
        "Requirements for activation function $y()$ defined as Python function ```f_tradeoff()```\n",
        "1. $y(0) = 0  $\n",
        "1. $y'(0) = 1 $\n",
        "1. $y(x) \\le x, \\; x \\in [0,1] $\n",
        "1. $y(1) = percentage $"
      ]
    },
    {
      "cell_type": "code",
      "execution_count": 23,
      "metadata": {
        "scrolled": false,
        "id": "b1Delt6ZJf63",
        "colab": {
          "base_uri": "https://localhost:8080/",
          "height": 425
        },
        "outputId": "3042cb91-a379-4539-c6d7-e6aa43067994"
      },
      "outputs": [
        {
          "output_type": "display_data",
          "data": {
            "text/plain": [
              "<Figure size 1008x504 with 1 Axes>"
            ],
            "image/png": "[encoded data removed]"
          },
          "metadata": {
            "needs_background": "light"
          }
        }
      ],
      "source": [
        "#\n",
        "# Plot for the 'f_tradeoff' activation function\n",
        "#\n",
        "\n",
        "fig = m_plt.figure(figsize=(14,7));\n",
        "gridSpec_grid = m_gridspec.GridSpec(nrows=1, ncols=2);\n",
        "\n",
        "# 100 linearly spaced numbers\n",
        "x = m_np.linspace(0,1,100);\n",
        "\n",
        "# setting the axes at the centre\n",
        "\n",
        "axes_plot = fig.add_subplot(gridSpec_grid[0, 1]);\n",
        "axes_plot.spines['left'].set_position('zero');\n",
        "axes_plot.spines['bottom'].set_position('zero');\n",
        "axes_plot.spines['right'].set_color('none');\n",
        "axes_plot.spines['top'].set_color('none');\n",
        "#axes_plot.xaxis.set_ticks_position('bottom');\n",
        "#axes_plot.yaxis.set_ticks_position('left');\n",
        "\n",
        "# axes name\n",
        "axes_plot.set_xlabel('x')\n",
        "axes_plot.set_ylabel('y')\n",
        "\n",
        "# plot the indentiy function red\n",
        "y0 = x;\n",
        "m_plt.plot(x,y0, 'r');\n",
        "\n",
        "m_plt.text(0.5,0.9,\n",
        "         r'$\\forall x >= 0: f_{80\\%}(x) <= id(x)$',\n",
        "         horizontalalignment='center',verticalalignment='center', fontsize=16, \n",
        "#         math_fontfamily='cm'\n",
        "         );\n",
        "\n",
        "m_plt.text(0.3,0.6,\n",
        "         r'$id(x) = x$',color='red',\n",
        "         horizontalalignment='center',verticalalignment='center', fontsize=18, \n",
        "#         math_fontfamily='cm'\n",
        "         );\n",
        "\n",
        "m_plt.text(0.6,0.3,\n",
        "         r'$f_{80\\%}(x) = x - \\frac{x^5}{5}$',color='blue',\n",
        "         horizontalalignment='center',verticalalignment='center', fontsize=18, \n",
        "#         math_fontfamily='cm'\n",
        "         );\n",
        "\n",
        "# plot the 80% f_tradeoff function function blue\n",
        "fl_gl_percentage = 0.8;\n",
        "y1 = f_tradeoff(x);\n",
        "m_plt.plot(x,y1, 'b');\n",
        "\n",
        "m_plt.xticks(m_np.arange(0.2, 1.1, step=0.2));  # Set label locations.\n",
        "m_plt.yticks(m_np.arange(0.2, 1.1, step=0.2));  # Set label locations.\n",
        "\n",
        "m_plt.axvline(x=1, ymin=0.05, color='k', linestyle=(0, (1, 7)));\n",
        "m_plt.axhline(y=1, xmin=0.05, color='k', linestyle=(0, (1, 7)));\n",
        "m_plt.axhline(y=0.8, xmin=0.05, color='k', linestyle=(0, (1, 7)));\n",
        "\n",
        "#m_plt.tight_layout();\n",
        "m_plt.savefig('activation-function.pdf', bbox_inches = 'tight')"
      ]
    }
  ],
  "metadata": {
    "accelerator": "GPU",
    "colab": {
      "provenance": []
    },
    "kernelspec": {
      "display_name": "Python 3 (ipykernel)",
      "language": "python",
      "name": "python3"
    },
    "language_info": {
      "codemirror_mode": {
        "name": "ipython",
        "version": 3
      },
      "file_extension": ".py",
      "mimetype": "text/x-python",
      "name": "python",
      "nbconvert_exporter": "python",
      "pygments_lexer": "ipython3",
      "version": "3.11.0"
    },
    "toc": {
      "base_numbering": 1,
      "nav_menu": {
        "height": "344.986px",
        "width": "272.997px"
      },
      "number_sections": true,
      "sideBar": true,
      "skip_h1_title": true,
      "title_cell": "Table of Contents",
      "title_sidebar": "Contents",
      "toc_cell": true,
      "toc_position": {
        "height": "calc(100% - 180px)",
        "left": "10px",
        "top": "150px",
        "width": "284.975px"
      },
      "toc_section_display": true,
      "toc_window_display": true
    }
  },
  "nbformat": 4,
  "nbformat_minor": 0
}
